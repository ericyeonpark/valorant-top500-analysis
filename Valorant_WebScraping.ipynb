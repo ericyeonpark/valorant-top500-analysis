{
 "metadata": {
  "language_info": {
   "codemirror_mode": {
    "name": "ipython",
    "version": 3
   },
   "file_extension": ".py",
   "mimetype": "text/x-python",
   "name": "python",
   "nbconvert_exporter": "python",
   "pygments_lexer": "ipython3",
   "version": "3.7.10-final"
  },
  "orig_nbformat": 2,
  "kernelspec": {
   "name": "python3",
   "display_name": "Python 3.7.10 64-bit ('unit2': conda)",
   "metadata": {
    "interpreter": {
     "hash": "3544570b386dedc2d1a14b544dd1a37310ecc4a835bccfc299e511315aa144aa"
    }
   }
  }
 },
 "nbformat": 4,
 "nbformat_minor": 2,
 "cells": [
  {
   "cell_type": "code",
   "execution_count": 4,
   "metadata": {},
   "outputs": [],
   "source": [
    "import requests #pip install requests\n",
    "from bs4 import BeautifulSoup as bs #pip install beautifulsoup4\n",
    "import pandas as pd"
   ]
  },
  {
   "cell_type": "code",
   "execution_count": 5,
   "metadata": {},
   "outputs": [],
   "source": [
    "def wrangle(link):\n",
    "    #Load the webpage content\n",
    "    r = requests.get(link)\n",
    "\n",
    "    #Convert to a beautiful soup object\n",
    "    soup = bs(r.content) \n",
    "\n",
    "    #Extract column names from table\n",
    "    table = soup.select('table.stats-table')[0]\n",
    "    columns = table.find('thead').find_all('th')\n",
    "    column_names = [c.string for c in columns]\n",
    "\n",
    "    #Extract table rows\n",
    "    table_rows = table.find('tbody').find_all('tr')\n",
    "    \n",
    "    #Create dataframe\n",
    "    l = []\n",
    "    for tr in table_rows:\n",
    "        td = tr.find_all('td')\n",
    "        row = [str(tr.get_text()).strip() for tr in td]\n",
    "        l.append(row)\n",
    "\n",
    "    df = pd.DataFrame(l, columns = column_names)\n",
    "\n",
    "    return df"
   ]
  },
  {
   "source": [
    "# Create Dataframes for Top 500 players S2 Act2"
   ],
   "cell_type": "markdown",
   "metadata": {}
  },
  {
   "source": [
    "- Data from dak.gg/valorant/leaderboard\n",
    "- Data updated as of 2021-03-22 13:10\n",
    "- Season 2 Act 2 \n",
    "- Top 500 players in Korea, EU, NA, Asian Pacific, BR, LATAM"
   ],
   "cell_type": "markdown",
   "metadata": {}
  },
  {
   "source": [
    "## Korean Dataframe"
   ],
   "cell_type": "markdown",
   "metadata": {}
  },
  {
   "cell_type": "code",
   "execution_count": 6,
   "metadata": {},
   "outputs": [],
   "source": [
    "#Create Top 500 Korean stat links \n",
    "kr_link1 = 'https://dak.gg/valorant/leaderboard'\n",
    "kr_link2 = 'https://dak.gg/valorant/leaderboard?shard=kr&page=2&season=2&act=2'\n",
    "kr_link3 = 'https://dak.gg/valorant/leaderboard?shard=kr&page=3&season=2&act=2'\n",
    "kr_link4 = 'https://dak.gg/valorant/leaderboard?shard=kr&page=4&season=2&act=2'\n",
    "kr_link5 = 'https://dak.gg/valorant/leaderboard?shard=kr&page=5&season=2&act=2'\n",
    "kr_link6 = 'https://dak.gg/valorant/leaderboard?shard=kr&page=6&season=2&act=2'\n",
    "kr_link7 = 'https://dak.gg/valorant/leaderboard?shard=kr&page=7&season=2&act=2'\n",
    "kr_link8 = 'https://dak.gg/valorant/leaderboard?shard=kr&page=8&season=2&act=2'\n",
    "kr_link9 = 'https://dak.gg/valorant/leaderboard?shard=kr&page=9&season=2&act=2'\n",
    "kr_link10 = 'https://dak.gg/valorant/leaderboard?shard=kr&page=10&season=2&act=2'\n",
    "\n",
    "#Create Top 500 Korean 500 df's\n",
    "df_kr1 = wrangle(kr_link1)\n",
    "df_kr2 = wrangle(kr_link2)\n",
    "df_kr3 = wrangle(kr_link3)\n",
    "df_kr4 = wrangle(kr_link4)\n",
    "df_kr5 = wrangle(kr_link5)\n",
    "df_kr6 = wrangle(kr_link6)\n",
    "df_kr7 = wrangle(kr_link7)\n",
    "df_kr8 = wrangle(kr_link8)\n",
    "df_kr9 = wrangle(kr_link9)\n",
    "df_kr10 = wrangle(kr_link10)"
   ]
  },
  {
   "cell_type": "code",
   "execution_count": 7,
   "metadata": {},
   "outputs": [],
   "source": [
    "#Concatenate the Top 500 Korean dataframe\n",
    "df_KR = pd.concat([df_kr1, \n",
    "           df_kr2,\n",
    "           df_kr3, \n",
    "           df_kr4, \n",
    "           df_kr5, \n",
    "           df_kr6, \n",
    "           df_kr7, \n",
    "           df_kr8, \n",
    "           df_kr9, \n",
    "           df_kr10])\n",
    "\n",
    "#Add Region feature dataframe\n",
    "df_KR['Region'] = 'Korea'\n",
    "\n",
    "#Drop Most Agent Columns\n",
    "df_KR.drop(columns= 'Most Agents', inplace=True)"
   ]
  },
  {
   "source": [
    "## European Dataframe"
   ],
   "cell_type": "markdown",
   "metadata": {}
  },
  {
   "cell_type": "code",
   "execution_count": 8,
   "metadata": {},
   "outputs": [],
   "source": [
    "#Create Top 500 European stat links\n",
    "eu_link1 = 'https://dak.gg/valorant/leaderboard?shard=eu'\n",
    "eu_link2 = 'https://dak.gg/valorant/leaderboard?shard=eu&page=2&season=2&act=2'\n",
    "eu_link3 = 'https://dak.gg/valorant/leaderboard?shard=eu&page=3&season=2&act=2'\n",
    "eu_link4 = 'https://dak.gg/valorant/leaderboard?shard=eu&page=4&season=2&act=2'\n",
    "eu_link5 = 'https://dak.gg/valorant/leaderboard?shard=eu&page=5&season=2&act=2'\n",
    "eu_link6 = 'https://dak.gg/valorant/leaderboard?shard=eu&page=6&season=2&act=2'\n",
    "eu_link7 = 'https://dak.gg/valorant/leaderboard?shard=eu&page=7&season=2&act=2'\n",
    "eu_link8 = 'https://dak.gg/valorant/leaderboard?shard=eu&page=8&season=2&act=2'\n",
    "eu_link9 = 'https://dak.gg/valorant/leaderboard?shard=eu&page=9&season=2&act=2'\n",
    "eu_link10 = 'https://dak.gg/valorant/leaderboard?shard=eu&page=10&season=2&act=2'\n",
    "\n",
    "#Create Top 500 European 500 df's\n",
    "df_eu1 = wrangle(eu_link1)\n",
    "df_eu2 = wrangle(eu_link2)\n",
    "df_eu3 = wrangle(eu_link3)\n",
    "df_eu4 = wrangle(eu_link4)\n",
    "df_eu5 = wrangle(eu_link5)\n",
    "df_eu6 = wrangle(eu_link6)\n",
    "df_eu7 = wrangle(eu_link7)\n",
    "df_eu8 = wrangle(eu_link8)\n",
    "df_eu9 = wrangle(eu_link9)\n",
    "df_eu10 = wrangle(eu_link10)"
   ]
  },
  {
   "cell_type": "code",
   "execution_count": 9,
   "metadata": {},
   "outputs": [],
   "source": [
    "#Concatenate the Top 500 European dataframe\n",
    "df_EU = pd.concat([df_eu1, \n",
    "                   df_eu2,\n",
    "                   df_eu3, \n",
    "                   df_eu4, \n",
    "                   df_eu5, \n",
    "                   df_eu6, \n",
    "                   df_eu7, \n",
    "                   df_eu8, \n",
    "                   df_eu9, \n",
    "                   df_eu10])\n",
    "\n",
    "#Add Region feature dataframe\n",
    "df_EU['Region'] = 'Europe'\n",
    "\n",
    "#Drop Most Agent Columns\n",
    "df_EU.drop(columns= 'Most Agents', inplace=True)"
   ]
  },
  {
   "source": [
    "## North American Region"
   ],
   "cell_type": "markdown",
   "metadata": {}
  },
  {
   "cell_type": "code",
   "execution_count": 10,
   "metadata": {},
   "outputs": [],
   "source": [
    "#Create Top 500 NA stat links\n",
    "na_link1 = 'https://dak.gg/valorant/leaderboard?shard=na'\n",
    "na_link2 = 'https://dak.gg/valorant/leaderboard?shard=na&page=2&season=2&act=2'\n",
    "na_link3 = 'https://dak.gg/valorant/leaderboard?shard=na&page=3&season=2&act=2'\n",
    "na_link4 = 'https://dak.gg/valorant/leaderboard?shard=na&page=4&season=2&act=2'\n",
    "na_link5 = 'https://dak.gg/valorant/leaderboard?shard=na&page=5&season=2&act=2'\n",
    "na_link6 = 'https://dak.gg/valorant/leaderboard?shard=na&page=6&season=2&act=2'\n",
    "na_link7 = 'https://dak.gg/valorant/leaderboard?shard=na&page=7&season=2&act=2'\n",
    "na_link8 = 'https://dak.gg/valorant/leaderboard?shard=na&page=8&season=2&act=2'\n",
    "na_link9 = 'https://dak.gg/valorant/leaderboard?shard=na&page=9&season=2&act=2'\n",
    "na_link10 = 'https://dak.gg/valorant/leaderboard?shard=na&page=10&season=2&act=2'\n",
    "\n",
    "#Create Top 500 NA 500 df's\n",
    "df_na1 = wrangle(na_link1)\n",
    "df_na2 = wrangle(na_link2)\n",
    "df_na3 = wrangle(na_link3)\n",
    "df_na4 = wrangle(na_link4)\n",
    "df_na5 = wrangle(na_link5)\n",
    "df_na6 = wrangle(na_link6)\n",
    "df_na7 = wrangle(na_link7)\n",
    "df_na8 = wrangle(na_link8)\n",
    "df_na9 = wrangle(na_link9)\n",
    "df_na10 = wrangle(na_link10)"
   ]
  },
  {
   "cell_type": "code",
   "execution_count": 11,
   "metadata": {},
   "outputs": [],
   "source": [
    "#Concatenate the Top 500 NA dataframe\n",
    "df_NA = pd.concat([df_na1, \n",
    "                   df_na2,\n",
    "                   df_na3, \n",
    "                   df_na4, \n",
    "                   df_na5, \n",
    "                   df_na6, \n",
    "                   df_na7, \n",
    "                   df_na8, \n",
    "                   df_na9, \n",
    "                   df_na10])\n",
    "\n",
    "#Add Region feature dataframe\n",
    "df_NA['Region'] = 'North America'\n",
    "\n",
    "#Drop Most Agent Columns\n",
    "df_NA.drop(columns= 'Most Agents', inplace=True)"
   ]
  },
  {
   "source": [
    "## Asia Pacific Region"
   ],
   "cell_type": "markdown",
   "metadata": {}
  },
  {
   "cell_type": "code",
   "execution_count": 12,
   "metadata": {},
   "outputs": [],
   "source": [
    "#Create Top 500 AP stat links\n",
    "ap_link1 = 'https://dak.gg/valorant/leaderboard?shard=ap'\n",
    "ap_link2 = 'https://dak.gg/valorant/leaderboard?shard=ap&page=2&season=2&act=2'\n",
    "ap_link3 = 'https://dak.gg/valorant/leaderboard?shard=ap&page=3&season=2&act=2'\n",
    "ap_link4 = 'https://dak.gg/valorant/leaderboard?shard=ap&page=4&season=2&act=2'\n",
    "ap_link5 = 'https://dak.gg/valorant/leaderboard?shard=ap&page=5&season=2&act=2'\n",
    "ap_link6 = 'https://dak.gg/valorant/leaderboard?shard=ap&page=6&season=2&act=2'\n",
    "ap_link7 = 'https://dak.gg/valorant/leaderboard?shard=ap&page=7&season=2&act=2'\n",
    "ap_link8 = 'https://dak.gg/valorant/leaderboard?shard=ap&page=8&season=2&act=2'\n",
    "ap_link9 = 'https://dak.gg/valorant/leaderboard?shard=ap&page=9&season=2&act=2'\n",
    "ap_link10 = 'https://dak.gg/valorant/leaderboard?shard=ap&page=10&season=2&act=2'\n",
    "\n",
    "#Create Top 500 AP 500 df's\n",
    "df_ap1 = wrangle(ap_link1)\n",
    "df_ap2 = wrangle(ap_link2)\n",
    "df_ap3 = wrangle(ap_link3)\n",
    "df_ap4 = wrangle(ap_link4)\n",
    "df_ap5 = wrangle(ap_link5)\n",
    "df_ap6 = wrangle(ap_link6)\n",
    "df_ap7 = wrangle(ap_link7)\n",
    "df_ap8 = wrangle(ap_link8)\n",
    "df_ap9 = wrangle(ap_link9)\n",
    "df_ap10 = wrangle(ap_link10)"
   ]
  },
  {
   "cell_type": "code",
   "execution_count": 13,
   "metadata": {},
   "outputs": [],
   "source": [
    "#Concatenate the Top 500 AP dataframe\n",
    "df_AP = pd.concat([df_ap1, \n",
    "                   df_ap2,\n",
    "                   df_ap3, \n",
    "                   df_ap4, \n",
    "                   df_ap5, \n",
    "                   df_ap6, \n",
    "                   df_ap7, \n",
    "                   df_ap8, \n",
    "                   df_ap9, \n",
    "                   df_ap10])\n",
    "\n",
    "#Add Region feature dataframe\n",
    "df_AP['Region'] = 'Asia Pacific'\n",
    "\n",
    "#Drop Most Agent Columns\n",
    "df_AP.drop(columns= 'Most Agents', inplace=True)"
   ]
  },
  {
   "source": [
    "## Brazil Region"
   ],
   "cell_type": "markdown",
   "metadata": {}
  },
  {
   "cell_type": "code",
   "execution_count": 14,
   "metadata": {},
   "outputs": [],
   "source": [
    "#Create Top 500 BR stat links\n",
    "br_link1 = 'https://dak.gg/valorant/leaderboard?shard=br'\n",
    "br_link2 = 'https://dak.gg/valorant/leaderboard?shard=br&page=2&season=2&act=2'\n",
    "br_link3 = 'https://dak.gg/valorant/leaderboard?shard=br&page=3&season=2&act=2'\n",
    "br_link4 = 'https://dak.gg/valorant/leaderboard?shard=br&page=4&season=2&act=2'\n",
    "br_link5 = 'https://dak.gg/valorant/leaderboard?shard=br&page=5&season=2&act=2'\n",
    "br_link6 = 'https://dak.gg/valorant/leaderboard?shard=br&page=6&season=2&act=2'\n",
    "br_link7 = 'https://dak.gg/valorant/leaderboard?shard=br&page=7&season=2&act=2'\n",
    "br_link8 = 'https://dak.gg/valorant/leaderboard?shard=br&page=8&season=2&act=2'\n",
    "br_link9 = 'https://dak.gg/valorant/leaderboard?shard=br&page=9&season=2&act=2'\n",
    "br_link10 = 'https://dak.gg/valorant/leaderboard?shard=br&page=10&season=2&act=2'\n",
    "\n",
    "#Create Top 500 BR 500 df's\n",
    "df_br1 = wrangle(br_link1)\n",
    "df_br2 = wrangle(br_link2)\n",
    "df_br3 = wrangle(br_link3)\n",
    "df_br4 = wrangle(br_link4)\n",
    "df_br5 = wrangle(br_link5)\n",
    "df_br6 = wrangle(br_link6)\n",
    "df_br7 = wrangle(br_link7)\n",
    "df_br8 = wrangle(br_link8)\n",
    "df_br9 = wrangle(br_link9)\n",
    "df_br10 = wrangle(br_link10)"
   ]
  },
  {
   "cell_type": "code",
   "execution_count": 15,
   "metadata": {},
   "outputs": [],
   "source": [
    "#Concatenate the Top 500 BR dataframe\n",
    "df_BR = pd.concat([df_br1, \n",
    "                   df_br2,\n",
    "                   df_br3, \n",
    "                   df_br4, \n",
    "                   df_br5, \n",
    "                   df_br6, \n",
    "                   df_br7, \n",
    "                   df_br8, \n",
    "                   df_br9, \n",
    "                   df_br10])\n",
    "\n",
    "#Add Region feature dataframe\n",
    "df_BR['Region'] = 'Brazil'\n",
    "\n",
    "#Drop Most Agent Columns\n",
    "df_BR.drop(columns= 'Most Agents', inplace=True)"
   ]
  },
  {
   "source": [
    "## Latin America Region"
   ],
   "cell_type": "markdown",
   "metadata": {}
  },
  {
   "cell_type": "code",
   "execution_count": 16,
   "metadata": {},
   "outputs": [],
   "source": [
    "#Create Top 500 LATAM stat links\n",
    "la_link1 = 'https://dak.gg/valorant/leaderboard?shard=latam'\n",
    "la_link2 = 'https://dak.gg/valorant/leaderboard?shard=latam&page=2&season=2&act=2'\n",
    "la_link3 = 'https://dak.gg/valorant/leaderboard?shard=latam&page=3&season=2&act=2'\n",
    "la_link4 = 'https://dak.gg/valorant/leaderboard?shard=latam&page=4&season=2&act=2'\n",
    "la_link5 = 'https://dak.gg/valorant/leaderboard?shard=latam&page=5&season=2&act=2'\n",
    "la_link6 = 'https://dak.gg/valorant/leaderboard?shard=latam&page=6&season=2&act=2'\n",
    "la_link7 = 'https://dak.gg/valorant/leaderboard?shard=latam&page=7&season=2&act=2'\n",
    "la_link8 = 'https://dak.gg/valorant/leaderboard?shard=latam&page=8&season=2&act=2'\n",
    "la_link9 = 'https://dak.gg/valorant/leaderboard?shard=latam&page=9&season=2&act=2'\n",
    "la_link10 = 'https://dak.gg/valorant/leaderboard?shard=latam&page=10&season=2&act=2'\n",
    "\n",
    "#Create Top 500 LATAM 500 df's\n",
    "df_la1 = wrangle(la_link1)\n",
    "df_la2 = wrangle(la_link2)\n",
    "df_la3 = wrangle(la_link3)\n",
    "df_la4 = wrangle(la_link4)\n",
    "df_la5 = wrangle(la_link5)\n",
    "df_la6 = wrangle(la_link6)\n",
    "df_la7 = wrangle(la_link7)\n",
    "df_la8 = wrangle(la_link8)\n",
    "df_la9 = wrangle(la_link9)\n",
    "df_la10 = wrangle(la_link10)"
   ]
  },
  {
   "cell_type": "code",
   "execution_count": 17,
   "metadata": {},
   "outputs": [],
   "source": [
    "#Concatenate the Top 500 LATAM dataframe\n",
    "df_LA = pd.concat([df_la1, \n",
    "                   df_la2,\n",
    "                   df_la3, \n",
    "                   df_la4, \n",
    "                   df_la5, \n",
    "                   df_la6, \n",
    "                   df_la7, \n",
    "                   df_la8, \n",
    "                   df_la9, \n",
    "                   df_la10])\n",
    "\n",
    "#Add Region feature dataframe\n",
    "df_LA['Region'] = 'Latin America'\n",
    "\n",
    "#Drop Most Agent Columns\n",
    "df_LA.drop(columns= 'Most Agents', inplace=True)"
   ]
  },
  {
   "source": [
    "## Final Dataframe"
   ],
   "cell_type": "markdown",
   "metadata": {}
  },
  {
   "cell_type": "code",
   "execution_count": 18,
   "metadata": {},
   "outputs": [],
   "source": [
    "#Combine all region dataframes\n",
    "df_final = pd.concat([df_NA, \n",
    "                   df_EU,\n",
    "                   df_KR, \n",
    "                   df_BR, \n",
    "                   df_LA, \n",
    "                   df_AP])\n",
    "\n",
    "#Timestamped Dataframe\n",
    "# df_final_3_22_21 = pd.concat([df_NA, \n",
    "#                    df_EU,\n",
    "#                    df_KR, \n",
    "#                    df_BR, \n",
    "#                    df_LA, \n",
    "#                    df_AP])\n"
   ]
  },
  {
   "cell_type": "code",
   "execution_count": 20,
   "metadata": {},
   "outputs": [],
   "source": [
    "#Get current Datestamp \n",
    "datestamp = pd.Timestamp.now().strftime('%Y-%m-%d_%H%M')\n",
    "#Create CSV\n",
    "df_final.to_csv(f'{datestamp}_Val_Top500_Stats', index = False)"
   ]
  },
  {
   "cell_type": "code",
   "execution_count": 55,
   "metadata": {},
   "outputs": [
    {
     "output_type": "execute_result",
     "data": {
      "text/plain": [
       "'2021-03-21_2135'"
      ]
     },
     "metadata": {},
     "execution_count": 55
    }
   ],
   "source": [
    "datestamp = pd.Timestamp.now().strftime('%Y-%m-%d_%H%M')\n",
    "datestamp"
   ]
  },
  {
   "cell_type": "code",
   "execution_count": 52,
   "metadata": {},
   "outputs": [
    {
     "output_type": "execute_result",
     "data": {
      "text/plain": [
       "   Rank                Player Rating Winrate Games Avg.Score    HS%  \\\n",
       "45  496          99Scrim#5513    332   56.0%    27     5,638  26.2%   \n",
       "46  497        SE Gemini#0115    332   58.3%    34     5,140  22.3%   \n",
       "47  498           しゅんすけ#annkw    332   70.0%    27     4,781  29.2%   \n",
       "48  499  Hello Beautiful#Heyy    331   60.0%    15     5,436  25.4%   \n",
       "49  500               真实的#stx    331   52.5%    21     4,786  18.4%   \n",
       "\n",
       "         Class        Region  \n",
       "45     Duelist  Asia Pacific  \n",
       "46     Duelist  Asia Pacific  \n",
       "47  Controller  Asia Pacific  \n",
       "48     Duelist  Asia Pacific  \n",
       "49     Duelist  Asia Pacific  "
      ],
      "text/html": "<div>\n<style scoped>\n    .dataframe tbody tr th:only-of-type {\n        vertical-align: middle;\n    }\n\n    .dataframe tbody tr th {\n        vertical-align: top;\n    }\n\n    .dataframe thead th {\n        text-align: right;\n    }\n</style>\n<table border=\"1\" class=\"dataframe\">\n  <thead>\n    <tr style=\"text-align: right;\">\n      <th></th>\n      <th>Rank</th>\n      <th>Player</th>\n      <th>Rating</th>\n      <th>Winrate</th>\n      <th>Games</th>\n      <th>Avg.Score</th>\n      <th>HS%</th>\n      <th>Class</th>\n      <th>Region</th>\n    </tr>\n  </thead>\n  <tbody>\n    <tr>\n      <th>45</th>\n      <td>496</td>\n      <td>99Scrim#5513</td>\n      <td>332</td>\n      <td>56.0%</td>\n      <td>27</td>\n      <td>5,638</td>\n      <td>26.2%</td>\n      <td>Duelist</td>\n      <td>Asia Pacific</td>\n    </tr>\n    <tr>\n      <th>46</th>\n      <td>497</td>\n      <td>SE Gemini#0115</td>\n      <td>332</td>\n      <td>58.3%</td>\n      <td>34</td>\n      <td>5,140</td>\n      <td>22.3%</td>\n      <td>Duelist</td>\n      <td>Asia Pacific</td>\n    </tr>\n    <tr>\n      <th>47</th>\n      <td>498</td>\n      <td>しゅんすけ#annkw</td>\n      <td>332</td>\n      <td>70.0%</td>\n      <td>27</td>\n      <td>4,781</td>\n      <td>29.2%</td>\n      <td>Controller</td>\n      <td>Asia Pacific</td>\n    </tr>\n    <tr>\n      <th>48</th>\n      <td>499</td>\n      <td>Hello Beautiful#Heyy</td>\n      <td>331</td>\n      <td>60.0%</td>\n      <td>15</td>\n      <td>5,436</td>\n      <td>25.4%</td>\n      <td>Duelist</td>\n      <td>Asia Pacific</td>\n    </tr>\n    <tr>\n      <th>49</th>\n      <td>500</td>\n      <td>真实的#stx</td>\n      <td>331</td>\n      <td>52.5%</td>\n      <td>21</td>\n      <td>4,786</td>\n      <td>18.4%</td>\n      <td>Duelist</td>\n      <td>Asia Pacific</td>\n    </tr>\n  </tbody>\n</table>\n</div>"
     },
     "metadata": {},
     "execution_count": 52
    }
   ],
   "source": [
    "df_final_3_22_21.tail()"
   ]
  },
  {
   "cell_type": "code",
   "execution_count": 53,
   "metadata": {},
   "outputs": [
    {
     "output_type": "stream",
     "name": "stdout",
     "text": [
      "<class 'pandas.core.frame.DataFrame'>\nInt64Index: 3000 entries, 0 to 49\nData columns (total 9 columns):\n #   Column     Non-Null Count  Dtype \n---  ------     --------------  ----- \n 0   Rank       3000 non-null   object\n 1   Player     3000 non-null   object\n 2   Rating     3000 non-null   object\n 3   Winrate    3000 non-null   object\n 4   Games      3000 non-null   object\n 5   Avg.Score  3000 non-null   object\n 6   HS%        3000 non-null   object\n 7   Class      3000 non-null   object\n 8   Region     3000 non-null   object\ndtypes: object(9)\nmemory usage: 234.4+ KB\n"
     ]
    }
   ],
   "source": [
    "df_final_3_22_21.info()"
   ]
  },
  {
   "cell_type": "code",
   "execution_count": 54,
   "metadata": {},
   "outputs": [
    {
     "output_type": "stream",
     "name": "stdout",
     "text": [
      "<class 'pandas.core.frame.DataFrame'>\nInt64Index: 3000 entries, 0 to 49\nData columns (total 9 columns):\n #   Column     Non-Null Count  Dtype \n---  ------     --------------  ----- \n 0   Rank       3000 non-null   object\n 1   Player     3000 non-null   object\n 2   Rating     3000 non-null   object\n 3   Winrate    3000 non-null   object\n 4   Games      3000 non-null   object\n 5   Avg.Score  3000 non-null   object\n 6   HS%        3000 non-null   object\n 7   Class      3000 non-null   object\n 8   Region     3000 non-null   object\ndtypes: object(9)\nmemory usage: 234.4+ KB\n"
     ]
    }
   ],
   "source": [
    "df_final.info()"
   ]
  },
  {
   "cell_type": "code",
   "execution_count": null,
   "metadata": {},
   "outputs": [],
   "source": []
  }
 ]
}