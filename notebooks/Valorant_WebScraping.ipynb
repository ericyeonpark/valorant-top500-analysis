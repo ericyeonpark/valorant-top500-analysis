{
 "metadata": {
  "language_info": {
   "codemirror_mode": {
    "name": "ipython",
    "version": 3
   },
   "file_extension": ".py",
   "mimetype": "text/x-python",
   "name": "python",
   "nbconvert_exporter": "python",
   "pygments_lexer": "ipython3",
   "version": "3.9.2"
  },
  "orig_nbformat": 2,
  "kernelspec": {
   "name": "python3",
   "display_name": "Python 3.9.2 64-bit ('valorant-top500-analysis-xqG1smVZ': pipenv)"
  },
  "interpreter": {
   "hash": "5e0f5eae581c417324e1692a55d3319d05ea83bad657a855a02b594638e4dfcc"
  }
 },
 "nbformat": 4,
 "nbformat_minor": 2,
 "cells": [
  {
   "cell_type": "code",
   "execution_count": 1,
   "source": [
    "import requests #pip install requests\r\n",
    "from bs4 import BeautifulSoup as bs #pip install beautifulsoup4\r\n",
    "import pandas as pd"
   ],
   "outputs": [],
   "metadata": {}
  },
  {
   "cell_type": "code",
   "execution_count": 2,
   "source": [
    "def scrape(link):\r\n",
    "    #Load the webpage content\r\n",
    "    r = requests.get(link)\r\n",
    "\r\n",
    "    #Convert to a beautiful soup object\r\n",
    "    soup = bs(r.content) \r\n",
    "\r\n",
    "    #Extract column names from table\r\n",
    "    table = soup.select('table.stats-table')[0]\r\n",
    "    columns = table.find('thead').find_all('th')\r\n",
    "    column_names = [c.string for c in columns]\r\n",
    "\r\n",
    "    #Extract table rows\r\n",
    "    table_rows = table.find('tbody').find_all('tr')\r\n",
    "    \r\n",
    "    #Create dataframe\r\n",
    "    l = []\r\n",
    "    for tr in table_rows:\r\n",
    "        td = tr.find_all('td')\r\n",
    "        row = [str(tr.get_text()).strip() for tr in td]\r\n",
    "        l.append(row)\r\n",
    "\r\n",
    "    df = pd.DataFrame(l, columns = column_names)\r\n",
    "\r\n",
    "    return df"
   ],
   "outputs": [],
   "metadata": {}
  },
  {
   "cell_type": "markdown",
   "source": [
    "# Create Dataframes for Top 500 players S2 Act2"
   ],
   "metadata": {}
  },
  {
   "cell_type": "markdown",
   "source": [
    "- Data from dak.gg/valorant/leaderboard\n",
    "- Data updated as of 2021-03-22 13:10\n",
    "- Season 2 Act 2 \n",
    "- Top 500 players in Korea, EU, NA, Asian Pacific, BR, LATAM"
   ],
   "metadata": {}
  },
  {
   "cell_type": "code",
   "execution_count": null,
   "source": [],
   "outputs": [],
   "metadata": {}
  },
  {
   "cell_type": "markdown",
   "source": [
    "## Korean Dataframe"
   ],
   "metadata": {}
  },
  {
   "cell_type": "code",
   "execution_count": 3,
   "source": [
    "#Create Top 500 Korean stat links \r\n",
    "kr_link1 = 'https://dak.gg/valorant/leaderboard'\r\n",
    "kr_link2 = 'https://dak.gg/valorant/leaderboard?shard=kr&page=2&season=2&act=2'\r\n",
    "kr_link3 = 'https://dak.gg/valorant/leaderboard?shard=kr&page=3&season=2&act=2'\r\n",
    "kr_link4 = 'https://dak.gg/valorant/leaderboard?shard=kr&page=4&season=2&act=2'\r\n",
    "kr_link5 = 'https://dak.gg/valorant/leaderboard?shard=kr&page=5&season=2&act=2'\r\n",
    "kr_link6 = 'https://dak.gg/valorant/leaderboard?shard=kr&page=6&season=2&act=2'\r\n",
    "kr_link7 = 'https://dak.gg/valorant/leaderboard?shard=kr&page=7&season=2&act=2'\r\n",
    "kr_link8 = 'https://dak.gg/valorant/leaderboard?shard=kr&page=8&season=2&act=2'\r\n",
    "kr_link9 = 'https://dak.gg/valorant/leaderboard?shard=kr&page=9&season=2&act=2'\r\n",
    "kr_link10 = 'https://dak.gg/valorant/leaderboard?shard=kr&page=10&season=2&act=2'\r\n",
    "\r\n",
    "#Create Top 500 Korean 500 df's\r\n",
    "df_kr1 = scrape(kr_link1)\r\n",
    "df_kr2 = scrape(kr_link2)\r\n",
    "df_kr3 = scrape(kr_link3)\r\n",
    "df_kr4 = scrape(kr_link4)\r\n",
    "df_kr5 = scrape(kr_link5)\r\n",
    "df_kr6 = scrape(kr_link6)\r\n",
    "df_kr7 = scrape(kr_link7)\r\n",
    "df_kr8 = scrape(kr_link8)\r\n",
    "df_kr9 = scrape(kr_link9)\r\n",
    "df_kr10 = scrape(kr_link10)"
   ],
   "outputs": [],
   "metadata": {}
  },
  {
   "cell_type": "code",
   "execution_count": 4,
   "source": [
    "#Concatenate the Top 500 Korean dataframe\r\n",
    "df_KR = pd.concat([df_kr1, \r\n",
    "           df_kr2,\r\n",
    "           df_kr3, \r\n",
    "           df_kr4, \r\n",
    "           df_kr5, \r\n",
    "           df_kr6, \r\n",
    "           df_kr7, \r\n",
    "           df_kr8, \r\n",
    "           df_kr9, \r\n",
    "           df_kr10])\r\n",
    "\r\n",
    "#Add Region feature dataframe\r\n",
    "df_KR['Region'] = 'Korea'\r\n",
    "\r\n",
    "#Drop Most Agent Columns\r\n",
    "df_KR.drop(columns= 'Most Agents', inplace=True)"
   ],
   "outputs": [],
   "metadata": {}
  },
  {
   "cell_type": "code",
   "execution_count": 8,
   "source": [
    "def create_link_kr():\r\n",
    "    '''\r\n",
    "    create links to scrape for kr server\r\n",
    "    '''\r\n",
    "    for season in range(2, 10, 1):\r\n",
    "        for act in range(1, 4, 1):\r\n",
    "            if ValueError:\r\n",
    "                kr_link2 = 'https://dak.gg/valorant/leaderboard?shard=kr&page=2&season={}&act={}'.format(season, act-1)\r\n",
    "                kr_link3 = 'https://dak.gg/valorant/leaderboard?shard=kr&page=3&season={}&act={}'.format(season, act-1)\r\n",
    "                kr_link4 = 'https://dak.gg/valorant/leaderboard?shard=kr&page=4&season={}&act={}'.format(season, act-1)\r\n",
    "                kr_link5 = 'https://dak.gg/valorant/leaderboard?shard=kr&page=5&season={}&act={}'.format(season, act-1)\r\n",
    "                kr_link6 = 'https://dak.gg/valorant/leaderboard?shard=kr&page=6&season={}&act={}'.format(season, act-1)\r\n",
    "                kr_link7 = 'https://dak.gg/valorant/leaderboard?shard=kr&page=7&season={}&act={}'.format(season, act-1)\r\n",
    "                kr_link8 = 'https://dak.gg/valorant/leaderboard?shard=kr&page=8&season={}&act={}'.format(season, act-1)\r\n",
    "                kr_link9 = 'https://dak.gg/valorant/leaderboard?shard=kr&page=9&season={}&act={}'.format(season, act-1)\r\n",
    "                kr_link10 = 'https://dak.gg/valorant/leaderboard?shard=kr&page=10&season={}&act={}'.format(season, act-1)\r\n",
    "\r\n",
    "    return kr_link1, kr_link2, kr_link3, kr_link4, kr_link5, \\\r\n",
    "           kr_link6, kr_link7, kr_link8, kr_link9, kr_link10"
   ],
   "outputs": [],
   "metadata": {}
  },
  {
   "cell_type": "code",
   "execution_count": 9,
   "source": [
    "create_link_kr()"
   ],
   "outputs": [
    {
     "output_type": "execute_result",
     "data": {
      "text/plain": [
       "('https://dak.gg/valorant/leaderboard',\n",
       " 'https://dak.gg/valorant/leaderboard?shard=kr&page=2&season=9&act=2',\n",
       " 'https://dak.gg/valorant/leaderboard?shard=kr&page=3&season=9&act=2',\n",
       " 'https://dak.gg/valorant/leaderboard?shard=kr&page=4&season=9&act=2',\n",
       " 'https://dak.gg/valorant/leaderboard?shard=kr&page=5&season=9&act=2',\n",
       " 'https://dak.gg/valorant/leaderboard?shard=kr&page=6&season=9&act=2',\n",
       " 'https://dak.gg/valorant/leaderboard?shard=kr&page=7&season=9&act=2',\n",
       " 'https://dak.gg/valorant/leaderboard?shard=kr&page=8&season=9&act=2',\n",
       " 'https://dak.gg/valorant/leaderboard?shard=kr&page=9&season=9&act=2',\n",
       " 'https://dak.gg/valorant/leaderboard?shard=kr&page=10&season=9&act=2')"
      ]
     },
     "metadata": {},
     "execution_count": 9
    }
   ],
   "metadata": {}
  },
  {
   "cell_type": "markdown",
   "source": [
    "## European Dataframe"
   ],
   "metadata": {}
  },
  {
   "cell_type": "code",
   "execution_count": 8,
   "source": [
    "#Create Top 500 European stat links\r\n",
    "eu_link1 = 'https://dak.gg/valorant/leaderboard?shard=eu'\r\n",
    "eu_link2 = 'https://dak.gg/valorant/leaderboard?shard=eu&page=2&season=2&act=2'\r\n",
    "eu_link3 = 'https://dak.gg/valorant/leaderboard?shard=eu&page=3&season=2&act=2'\r\n",
    "eu_link4 = 'https://dak.gg/valorant/leaderboard?shard=eu&page=4&season=2&act=2'\r\n",
    "eu_link5 = 'https://dak.gg/valorant/leaderboard?shard=eu&page=5&season=2&act=2'\r\n",
    "eu_link6 = 'https://dak.gg/valorant/leaderboard?shard=eu&page=6&season=2&act=2'\r\n",
    "eu_link7 = 'https://dak.gg/valorant/leaderboard?shard=eu&page=7&season=2&act=2'\r\n",
    "eu_link8 = 'https://dak.gg/valorant/leaderboard?shard=eu&page=8&season=2&act=2'\r\n",
    "eu_link9 = 'https://dak.gg/valorant/leaderboard?shard=eu&page=9&season=2&act=2'\r\n",
    "eu_link10 = 'https://dak.gg/valorant/leaderboard?shard=eu&page=10&season=2&act=2'\r\n",
    "\r\n",
    "#Create Top 500 European 500 df's\r\n",
    "df_eu1 = scrape(eu_link1)\r\n",
    "df_eu2 = scrape(eu_link2)\r\n",
    "df_eu3 = scrape(eu_link3)\r\n",
    "df_eu4 = scrape(eu_link4)\r\n",
    "df_eu5 = scrape(eu_link5)\r\n",
    "df_eu6 = scrape(eu_link6)\r\n",
    "df_eu7 = scrape(eu_link7)\r\n",
    "df_eu8 = scrape(eu_link8)\r\n",
    "df_eu9 = scrape(eu_link9)\r\n",
    "df_eu10 = scrape(eu_link10)"
   ],
   "outputs": [],
   "metadata": {}
  },
  {
   "cell_type": "code",
   "execution_count": 9,
   "source": [
    "#Concatenate the Top 500 European dataframe\r\n",
    "df_EU = pd.concat([df_eu1, \r\n",
    "                   df_eu2,\r\n",
    "                   df_eu3, \r\n",
    "                   df_eu4, \r\n",
    "                   df_eu5, \r\n",
    "                   df_eu6, \r\n",
    "                   df_eu7, \r\n",
    "                   df_eu8, \r\n",
    "                   df_eu9, \r\n",
    "                   df_eu10])\r\n",
    "\r\n",
    "#Add Region feature dataframe\r\n",
    "df_EU['Region'] = 'Europe'\r\n",
    "\r\n",
    "#Drop Most Agent Columns\r\n",
    "df_EU.drop(columns= 'Most Agents', inplace=True)"
   ],
   "outputs": [],
   "metadata": {}
  },
  {
   "cell_type": "markdown",
   "source": [
    "## North American Region"
   ],
   "metadata": {}
  },
  {
   "cell_type": "code",
   "execution_count": 10,
   "source": [
    "#Create Top 500 NA stat links\r\n",
    "na_link1 = 'https://dak.gg/valorant/leaderboard?shard=na'\r\n",
    "na_link2 = 'https://dak.gg/valorant/leaderboard?shard=na&page=2&season=2&act=2'\r\n",
    "na_link3 = 'https://dak.gg/valorant/leaderboard?shard=na&page=3&season=2&act=2'\r\n",
    "na_link4 = 'https://dak.gg/valorant/leaderboard?shard=na&page=4&season=2&act=2'\r\n",
    "na_link5 = 'https://dak.gg/valorant/leaderboard?shard=na&page=5&season=2&act=2'\r\n",
    "na_link6 = 'https://dak.gg/valorant/leaderboard?shard=na&page=6&season=2&act=2'\r\n",
    "na_link7 = 'https://dak.gg/valorant/leaderboard?shard=na&page=7&season=2&act=2'\r\n",
    "na_link8 = 'https://dak.gg/valorant/leaderboard?shard=na&page=8&season=2&act=2'\r\n",
    "na_link9 = 'https://dak.gg/valorant/leaderboard?shard=na&page=9&season=2&act=2'\r\n",
    "na_link10 = 'https://dak.gg/valorant/leaderboard?shard=na&page=10&season=2&act=2'\r\n",
    "\r\n",
    "#Create Top 500 NA 500 df's\r\n",
    "df_na1 = scrape(na_link1)\r\n",
    "df_na2 = scrape(na_link2)\r\n",
    "df_na3 = scrape(na_link3)\r\n",
    "df_na4 = scrape(na_link4)\r\n",
    "df_na5 = scrape(na_link5)\r\n",
    "df_na6 = scrape(na_link6)\r\n",
    "df_na7 = scrape(na_link7)\r\n",
    "df_na8 = scrape(na_link8)\r\n",
    "df_na9 = scrape(na_link9)\r\n",
    "df_na10 = scrape(na_link10)"
   ],
   "outputs": [],
   "metadata": {}
  },
  {
   "cell_type": "code",
   "execution_count": 11,
   "source": [
    "#Concatenate the Top 500 NA dataframe\r\n",
    "df_NA = pd.concat([df_na1, \r\n",
    "                   df_na2,\r\n",
    "                   df_na3, \r\n",
    "                   df_na4, \r\n",
    "                   df_na5, \r\n",
    "                   df_na6, \r\n",
    "                   df_na7, \r\n",
    "                   df_na8, \r\n",
    "                   df_na9, \r\n",
    "                   df_na10])\r\n",
    "\r\n",
    "#Add Region feature dataframe\r\n",
    "df_NA['Region'] = 'North America'\r\n",
    "\r\n",
    "#Drop Most Agent Columns\r\n",
    "df_NA.drop(columns= 'Most Agents', inplace=True)"
   ],
   "outputs": [],
   "metadata": {}
  },
  {
   "cell_type": "markdown",
   "source": [
    "## Asia Pacific Region"
   ],
   "metadata": {}
  },
  {
   "cell_type": "code",
   "execution_count": 12,
   "source": [
    "#Create Top 500 AP stat links\r\n",
    "ap_link1 = 'https://dak.gg/valorant/leaderboard?shard=ap'\r\n",
    "ap_link2 = 'https://dak.gg/valorant/leaderboard?shard=ap&page=2&season=2&act=2'\r\n",
    "ap_link3 = 'https://dak.gg/valorant/leaderboard?shard=ap&page=3&season=2&act=2'\r\n",
    "ap_link4 = 'https://dak.gg/valorant/leaderboard?shard=ap&page=4&season=2&act=2'\r\n",
    "ap_link5 = 'https://dak.gg/valorant/leaderboard?shard=ap&page=5&season=2&act=2'\r\n",
    "ap_link6 = 'https://dak.gg/valorant/leaderboard?shard=ap&page=6&season=2&act=2'\r\n",
    "ap_link7 = 'https://dak.gg/valorant/leaderboard?shard=ap&page=7&season=2&act=2'\r\n",
    "ap_link8 = 'https://dak.gg/valorant/leaderboard?shard=ap&page=8&season=2&act=2'\r\n",
    "ap_link9 = 'https://dak.gg/valorant/leaderboard?shard=ap&page=9&season=2&act=2'\r\n",
    "ap_link10 = 'https://dak.gg/valorant/leaderboard?shard=ap&page=10&season=2&act=2'\r\n",
    "\r\n",
    "#Create Top 500 AP 500 df's\r\n",
    "df_ap1 = scrape(ap_link1)\r\n",
    "df_ap2 = scrape(ap_link2)\r\n",
    "df_ap3 = scrape(ap_link3)\r\n",
    "df_ap4 = scrape(ap_link4)\r\n",
    "df_ap5 = scrape(ap_link5)\r\n",
    "df_ap6 = scrape(ap_link6)\r\n",
    "df_ap7 = scrape(ap_link7)\r\n",
    "df_ap8 = scrape(ap_link8)\r\n",
    "df_ap9 = scrape(ap_link9)\r\n",
    "df_ap10 = scrape(ap_link10)"
   ],
   "outputs": [],
   "metadata": {}
  },
  {
   "cell_type": "code",
   "execution_count": 13,
   "source": [
    "#Concatenate the Top 500 AP dataframe\r\n",
    "df_AP = pd.concat([df_ap1, \r\n",
    "                   df_ap2,\r\n",
    "                   df_ap3, \r\n",
    "                   df_ap4, \r\n",
    "                   df_ap5, \r\n",
    "                   df_ap6, \r\n",
    "                   df_ap7, \r\n",
    "                   df_ap8, \r\n",
    "                   df_ap9, \r\n",
    "                   df_ap10])\r\n",
    "\r\n",
    "#Add Region feature dataframe\r\n",
    "df_AP['Region'] = 'Asia Pacific'\r\n",
    "\r\n",
    "#Drop Most Agent Columns\r\n",
    "df_AP.drop(columns= 'Most Agents', inplace=True)"
   ],
   "outputs": [],
   "metadata": {}
  },
  {
   "cell_type": "markdown",
   "source": [
    "## Brazil Region"
   ],
   "metadata": {}
  },
  {
   "cell_type": "code",
   "execution_count": 14,
   "source": [
    "#Create Top 500 BR stat links\r\n",
    "br_link1 = 'https://dak.gg/valorant/leaderboard?shard=br'\r\n",
    "br_link2 = 'https://dak.gg/valorant/leaderboard?shard=br&page=2&season=2&act=2'\r\n",
    "br_link3 = 'https://dak.gg/valorant/leaderboard?shard=br&page=3&season=2&act=2'\r\n",
    "br_link4 = 'https://dak.gg/valorant/leaderboard?shard=br&page=4&season=2&act=2'\r\n",
    "br_link5 = 'https://dak.gg/valorant/leaderboard?shard=br&page=5&season=2&act=2'\r\n",
    "br_link6 = 'https://dak.gg/valorant/leaderboard?shard=br&page=6&season=2&act=2'\r\n",
    "br_link7 = 'https://dak.gg/valorant/leaderboard?shard=br&page=7&season=2&act=2'\r\n",
    "br_link8 = 'https://dak.gg/valorant/leaderboard?shard=br&page=8&season=2&act=2'\r\n",
    "br_link9 = 'https://dak.gg/valorant/leaderboard?shard=br&page=9&season=2&act=2'\r\n",
    "br_link10 = 'https://dak.gg/valorant/leaderboard?shard=br&page=10&season=2&act=2'\r\n",
    "\r\n",
    "#Create Top 500 BR 500 df's\r\n",
    "df_br1 = scrape(br_link1)\r\n",
    "df_br2 = scrape(br_link2)\r\n",
    "df_br3 = scrape(br_link3)\r\n",
    "df_br4 = scrape(br_link4)\r\n",
    "df_br5 = scrape(br_link5)\r\n",
    "df_br6 = scrape(br_link6)\r\n",
    "df_br7 = scrape(br_link7)\r\n",
    "df_br8 = scrape(br_link8)\r\n",
    "df_br9 = scrape(br_link9)\r\n",
    "df_br10 = scrape(br_link10)"
   ],
   "outputs": [],
   "metadata": {}
  },
  {
   "cell_type": "code",
   "execution_count": 15,
   "source": [
    "#Concatenate the Top 500 BR dataframe\r\n",
    "df_BR = pd.concat([df_br1, \r\n",
    "                   df_br2,\r\n",
    "                   df_br3, \r\n",
    "                   df_br4, \r\n",
    "                   df_br5, \r\n",
    "                   df_br6, \r\n",
    "                   df_br7, \r\n",
    "                   df_br8, \r\n",
    "                   df_br9, \r\n",
    "                   df_br10])\r\n",
    "\r\n",
    "#Add Region feature dataframe\r\n",
    "df_BR['Region'] = 'Brazil'\r\n",
    "\r\n",
    "#Drop Most Agent Columns\r\n",
    "df_BR.drop(columns= 'Most Agents', inplace=True)"
   ],
   "outputs": [],
   "metadata": {}
  },
  {
   "cell_type": "markdown",
   "source": [
    "## Latin America Region"
   ],
   "metadata": {}
  },
  {
   "cell_type": "code",
   "execution_count": 16,
   "source": [
    "#Create Top 500 LATAM stat links\r\n",
    "la_link1 = 'https://dak.gg/valorant/leaderboard?shard=latam'\r\n",
    "la_link2 = 'https://dak.gg/valorant/leaderboard?shard=latam&page=2&season=2&act=2'\r\n",
    "la_link3 = 'https://dak.gg/valorant/leaderboard?shard=latam&page=3&season=2&act=2'\r\n",
    "la_link4 = 'https://dak.gg/valorant/leaderboard?shard=latam&page=4&season=2&act=2'\r\n",
    "la_link5 = 'https://dak.gg/valorant/leaderboard?shard=latam&page=5&season=2&act=2'\r\n",
    "la_link6 = 'https://dak.gg/valorant/leaderboard?shard=latam&page=6&season=2&act=2'\r\n",
    "la_link7 = 'https://dak.gg/valorant/leaderboard?shard=latam&page=7&season=2&act=2'\r\n",
    "la_link8 = 'https://dak.gg/valorant/leaderboard?shard=latam&page=8&season=2&act=2'\r\n",
    "la_link9 = 'https://dak.gg/valorant/leaderboard?shard=latam&page=9&season=2&act=2'\r\n",
    "la_link10 = 'https://dak.gg/valorant/leaderboard?shard=latam&page=10&season=2&act=2'\r\n",
    "\r\n",
    "#Create Top 500 LATAM 500 df's\r\n",
    "df_la1 = scrape(la_link1)\r\n",
    "df_la2 = scrape(la_link2)\r\n",
    "df_la3 = scrape(la_link3)\r\n",
    "df_la4 = scrape(la_link4)\r\n",
    "df_la5 = scrape(la_link5)\r\n",
    "df_la6 = scrape(la_link6)\r\n",
    "df_la7 = scrape(la_link7)\r\n",
    "df_la8 = scrape(la_link8)\r\n",
    "df_la9 = scrape(la_link9)\r\n",
    "df_la10 = scrape(la_link10)"
   ],
   "outputs": [],
   "metadata": {}
  },
  {
   "cell_type": "code",
   "execution_count": 17,
   "source": [
    "#Concatenate the Top 500 LATAM dataframe\r\n",
    "df_LA = pd.concat([df_la1, \r\n",
    "                   df_la2,\r\n",
    "                   df_la3, \r\n",
    "                   df_la4, \r\n",
    "                   df_la5, \r\n",
    "                   df_la6, \r\n",
    "                   df_la7, \r\n",
    "                   df_la8, \r\n",
    "                   df_la9, \r\n",
    "                   df_la10])\r\n",
    "\r\n",
    "#Add Region feature dataframe\r\n",
    "df_LA['Region'] = 'Latin America'\r\n",
    "\r\n",
    "#Drop Most Agent Columns\r\n",
    "df_LA.drop(columns= 'Most Agents', inplace=True)"
   ],
   "outputs": [],
   "metadata": {}
  },
  {
   "cell_type": "markdown",
   "source": [
    "## Final Dataframe"
   ],
   "metadata": {}
  },
  {
   "cell_type": "code",
   "execution_count": 18,
   "source": [
    "#Combine all region dataframes\r\n",
    "df_final = pd.concat([df_NA, \r\n",
    "                   df_EU,\r\n",
    "                   df_KR, \r\n",
    "                   df_BR, \r\n",
    "                   df_LA, \r\n",
    "                   df_AP])\r\n",
    "\r\n",
    "#Timestamped Dataframe\r\n",
    "# df_final_3_22_21 = pd.concat([df_NA, \r\n",
    "#                    df_EU,\r\n",
    "#                    df_KR, \r\n",
    "#                    df_BR, \r\n",
    "#                    df_LA, \r\n",
    "#                    df_AP])\r\n"
   ],
   "outputs": [],
   "metadata": {}
  },
  {
   "cell_type": "code",
   "execution_count": 20,
   "source": [
    "#Get current Datestamp \r\n",
    "datestamp = pd.Timestamp.now().strftime('%Y-%m-%d_%H%M')\r\n",
    "#Create CSV\r\n",
    "df_final.to_csv(f'{datestamp}_Val_Top500_Stats', index = False)"
   ],
   "outputs": [],
   "metadata": {}
  },
  {
   "cell_type": "code",
   "execution_count": 55,
   "source": [
    "datestamp = pd.Timestamp.now().strftime('%Y-%m-%d_%H%M')\r\n",
    "datestamp"
   ],
   "outputs": [
    {
     "output_type": "execute_result",
     "data": {
      "text/plain": [
       "'2021-03-21_2135'"
      ]
     },
     "metadata": {},
     "execution_count": 55
    }
   ],
   "metadata": {}
  },
  {
   "cell_type": "code",
   "execution_count": 52,
   "source": [
    "df_final_3_22_21.tail()"
   ],
   "outputs": [
    {
     "output_type": "execute_result",
     "data": {
      "text/plain": [
       "   Rank                Player Rating Winrate Games Avg.Score    HS%  \\\n",
       "45  496          99Scrim#5513    332   56.0%    27     5,638  26.2%   \n",
       "46  497        SE Gemini#0115    332   58.3%    34     5,140  22.3%   \n",
       "47  498           しゅんすけ#annkw    332   70.0%    27     4,781  29.2%   \n",
       "48  499  Hello Beautiful#Heyy    331   60.0%    15     5,436  25.4%   \n",
       "49  500               真实的#stx    331   52.5%    21     4,786  18.4%   \n",
       "\n",
       "         Class        Region  \n",
       "45     Duelist  Asia Pacific  \n",
       "46     Duelist  Asia Pacific  \n",
       "47  Controller  Asia Pacific  \n",
       "48     Duelist  Asia Pacific  \n",
       "49     Duelist  Asia Pacific  "
      ],
      "text/html": [
       "<div>\n",
       "<style scoped>\n",
       "    .dataframe tbody tr th:only-of-type {\n",
       "        vertical-align: middle;\n",
       "    }\n",
       "\n",
       "    .dataframe tbody tr th {\n",
       "        vertical-align: top;\n",
       "    }\n",
       "\n",
       "    .dataframe thead th {\n",
       "        text-align: right;\n",
       "    }\n",
       "</style>\n",
       "<table border=\"1\" class=\"dataframe\">\n",
       "  <thead>\n",
       "    <tr style=\"text-align: right;\">\n",
       "      <th></th>\n",
       "      <th>Rank</th>\n",
       "      <th>Player</th>\n",
       "      <th>Rating</th>\n",
       "      <th>Winrate</th>\n",
       "      <th>Games</th>\n",
       "      <th>Avg.Score</th>\n",
       "      <th>HS%</th>\n",
       "      <th>Class</th>\n",
       "      <th>Region</th>\n",
       "    </tr>\n",
       "  </thead>\n",
       "  <tbody>\n",
       "    <tr>\n",
       "      <th>45</th>\n",
       "      <td>496</td>\n",
       "      <td>99Scrim#5513</td>\n",
       "      <td>332</td>\n",
       "      <td>56.0%</td>\n",
       "      <td>27</td>\n",
       "      <td>5,638</td>\n",
       "      <td>26.2%</td>\n",
       "      <td>Duelist</td>\n",
       "      <td>Asia Pacific</td>\n",
       "    </tr>\n",
       "    <tr>\n",
       "      <th>46</th>\n",
       "      <td>497</td>\n",
       "      <td>SE Gemini#0115</td>\n",
       "      <td>332</td>\n",
       "      <td>58.3%</td>\n",
       "      <td>34</td>\n",
       "      <td>5,140</td>\n",
       "      <td>22.3%</td>\n",
       "      <td>Duelist</td>\n",
       "      <td>Asia Pacific</td>\n",
       "    </tr>\n",
       "    <tr>\n",
       "      <th>47</th>\n",
       "      <td>498</td>\n",
       "      <td>しゅんすけ#annkw</td>\n",
       "      <td>332</td>\n",
       "      <td>70.0%</td>\n",
       "      <td>27</td>\n",
       "      <td>4,781</td>\n",
       "      <td>29.2%</td>\n",
       "      <td>Controller</td>\n",
       "      <td>Asia Pacific</td>\n",
       "    </tr>\n",
       "    <tr>\n",
       "      <th>48</th>\n",
       "      <td>499</td>\n",
       "      <td>Hello Beautiful#Heyy</td>\n",
       "      <td>331</td>\n",
       "      <td>60.0%</td>\n",
       "      <td>15</td>\n",
       "      <td>5,436</td>\n",
       "      <td>25.4%</td>\n",
       "      <td>Duelist</td>\n",
       "      <td>Asia Pacific</td>\n",
       "    </tr>\n",
       "    <tr>\n",
       "      <th>49</th>\n",
       "      <td>500</td>\n",
       "      <td>真实的#stx</td>\n",
       "      <td>331</td>\n",
       "      <td>52.5%</td>\n",
       "      <td>21</td>\n",
       "      <td>4,786</td>\n",
       "      <td>18.4%</td>\n",
       "      <td>Duelist</td>\n",
       "      <td>Asia Pacific</td>\n",
       "    </tr>\n",
       "  </tbody>\n",
       "</table>\n",
       "</div>"
      ]
     },
     "metadata": {},
     "execution_count": 52
    }
   ],
   "metadata": {}
  },
  {
   "cell_type": "code",
   "execution_count": 53,
   "source": [
    "df_final_3_22_21.info()"
   ],
   "outputs": [
    {
     "output_type": "stream",
     "name": "stdout",
     "text": [
      "<class 'pandas.core.frame.DataFrame'>\n",
      "Int64Index: 3000 entries, 0 to 49\n",
      "Data columns (total 9 columns):\n",
      " #   Column     Non-Null Count  Dtype \n",
      "---  ------     --------------  ----- \n",
      " 0   Rank       3000 non-null   object\n",
      " 1   Player     3000 non-null   object\n",
      " 2   Rating     3000 non-null   object\n",
      " 3   Winrate    3000 non-null   object\n",
      " 4   Games      3000 non-null   object\n",
      " 5   Avg.Score  3000 non-null   object\n",
      " 6   HS%        3000 non-null   object\n",
      " 7   Class      3000 non-null   object\n",
      " 8   Region     3000 non-null   object\n",
      "dtypes: object(9)\n",
      "memory usage: 234.4+ KB\n"
     ]
    }
   ],
   "metadata": {}
  },
  {
   "cell_type": "code",
   "execution_count": 54,
   "source": [
    "df_final.info()"
   ],
   "outputs": [
    {
     "output_type": "stream",
     "name": "stdout",
     "text": [
      "<class 'pandas.core.frame.DataFrame'>\n",
      "Int64Index: 3000 entries, 0 to 49\n",
      "Data columns (total 9 columns):\n",
      " #   Column     Non-Null Count  Dtype \n",
      "---  ------     --------------  ----- \n",
      " 0   Rank       3000 non-null   object\n",
      " 1   Player     3000 non-null   object\n",
      " 2   Rating     3000 non-null   object\n",
      " 3   Winrate    3000 non-null   object\n",
      " 4   Games      3000 non-null   object\n",
      " 5   Avg.Score  3000 non-null   object\n",
      " 6   HS%        3000 non-null   object\n",
      " 7   Class      3000 non-null   object\n",
      " 8   Region     3000 non-null   object\n",
      "dtypes: object(9)\n",
      "memory usage: 234.4+ KB\n"
     ]
    }
   ],
   "metadata": {}
  },
  {
   "cell_type": "code",
   "execution_count": null,
   "source": [],
   "outputs": [],
   "metadata": {}
  }
 ]
}